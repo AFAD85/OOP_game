{
 "cells": [
  {
   "cell_type": "markdown",
   "metadata": {},
   "source": [
    "Description.\n",
    "The assignment is to make a small console-based Pokemon Game. The goal of the game is to\n",
    "allow a player to select a Pokemon from a range of choices and to initiate a fighting sequence with\n",
    "another Pokemon. The fighting happens turn-based. Each Pokemon gets a turn to attack, until one\n",
    "Pokemon’s health is depleted. The complexity of the game mechanics is secondary, our main\n",
    "interest is what you have built under the hood."
   ]
  },
  {
   "cell_type": "markdown",
   "metadata": {},
   "source": [
    "Software Requirements\n",
    "1. Main menu so the user can initiate actions.\n",
    "2. List all available Pokemon and be able to choose one as your main Pokemon. Create as\n",
    "many Pokemon as you like, with a minimum of 5.\n",
    "3. Being able to change your main Pokemon at any time.\n",
    "4. Ability to initiate a fighting sequence. Before actually fighting, we pick an opposing\n",
    "Pokemon.\n",
    "5. An overview of what happens during the fight. Who is attacking who, what are the current\n",
    "health stats, etc."
   ]
  },
  {
   "cell_type": "markdown",
   "metadata": {},
   "source": [
    "Clean Code\n",
    "There are a couple of aspects of your code that we find important. An important aspect of how we\n",
    "evaluate your code is going to be its level of readability. Code is mostly read by your fellow\n",
    "programmers and the ability to write concise yet understandable code is crucial in a team. That is\n",
    "why we strongly encourage you to code using the SOLID principles. For a tutorial video click here.\n",
    "These are also the principles we will be focusing on when we look at your code. For clarities’ sake,\n",
    "here are some highlights:\n",
    "● Readability\n",
    "● Separation of Concerns (SoC)\n",
    "● Naming conventions\n",
    "● Don’t Repeat Yourself (DRY)\n",
    "● Functions should only perform a single task"
   ]
  },
  {
   "attachments": {},
   "cell_type": "markdown",
   "metadata": {},
   "source": [
    "# Main concerns:\n",
    "● Readability\\\n",
    "    will add notes to achieve\\\n",
    "● Separation of Concerns (SoC)\\\n",
    "    protocols to avoid inheritance and allow for a more modular design (game for example using the characters from street fighter, instead of pokemon)\n",
    "\n",
    "● Naming conventions\n",
    "\n",
    "● Don’t Repeat Yourself (DRY)\\\n",
    "● Functions should only perform a single task\\\n",
    "    will use 'templates', so separate functions from objects as in:\\\n",
    "        object contains pokemon stats needed for game such as HP, attack stat etc.\\\n",
    "        function to attack defend retreat etc. in seperate classes\\\n",
    "\n",
    "\n",
    "\n",
    "# Notes (MoSCoW): \n",
    "#   MUST HAVE\n",
    "Main menu where options are selected:\\\n",
    "    -   start game\\\n",
    "    -   select pokemon (select own pokemon, followed by selecting computers pokemon)\\\n",
    "    \n",
    "Turn loop\n",
    "    After selecting start game, loop will run that will end when either the player or the computers pokemons healt <= 0 \\\n",
    "    Player can select action every turn\\\n",
    "\n",
    "    \n",
    "    \n",
    "    \n",
    "Player should have a few (5) choices for their character (pokemon)\\\n",
    "Turn based game, so need a game loop that executes a turn depending on player input and previous selections\\\n",
    "\n",
    "#   SHOULD HAVE\n",
    "\n",
    "    \n",
    "#   COULD HAVE\n",
    "GUI, pygame integration with simple ui, depending on time could implement, though beyond the scope of requirements   \n",
    "Expanded game mechanics (items, status effects, ), seems easy to implement if time permits\n",
    "\n",
    "\n",
    "#   WONT HAVE\n",
    "game mechanics not mentioned above"
   ]
  },
  {
   "attachments": {},
   "cell_type": "markdown",
   "metadata": {},
   "source": [
    "# Design:\n",
    "\n",
    "main function will contain the game loop, running the file should start the game in the main menu\\\n",
    "main function will be used to make player objects out of pokemon class\n",
    "pokemon class will have a super (creature) class, \n"
   ]
  },
  {
   "cell_type": "code",
   "execution_count": 1,
   "metadata": {},
   "outputs": [],
   "source": [
    "class Fighter:\n",
    "    \n",
    "    def __init__(self, name, controler):\n",
    "        self.name = name\n",
    "        self.health = 10\n",
    "        self.attack_power = 2\n",
    "        self.knocked_out = False\n",
    "        self.controler = controler\n",
    "\n"
   ]
  },
  {
   "cell_type": "code",
   "execution_count": 24,
   "metadata": {},
   "outputs": [
    {
     "name": "stdout",
     "output_type": "stream",
     "text": [
      "<__main__.Fighter object at 0x000002CC04FD7BE0>\n",
      "<__main__.Fighter object at 0x000002CC03A83BE0>\n"
     ]
    }
   ],
   "source": [
    "taco = Fighter()\n",
    "bla = Fighter()\n",
    "print(taco)\n",
    "print(bla)"
   ]
  },
  {
   "cell_type": "code",
   "execution_count": 25,
   "metadata": {},
   "outputs": [
    {
     "name": "stdout",
     "output_type": "stream",
     "text": [
      "bla has 8 left\n",
      "taco has 8 left\n",
      "bla has 6 left\n",
      "taco has 6 left\n",
      "bla has 4 left\n",
      "taco has 4 left\n",
      "bla has 2 left\n",
      "taco has 2 left\n",
      "bla has 0 left\n",
      "bla loses\n"
     ]
    }
   ],
   "source": [
    "def fight():\n",
    "    \n",
    "    while bla.health >= 0 or taco.health >= 0:\n",
    "        bla.health -= taco.attack_power\n",
    "        print(f\"bla has {bla.health} left\")\n",
    "        if bla.health <= 0:\n",
    "            print(\"bla loses\")\n",
    "            break\n",
    "        \n",
    "        taco.health -= bla.attack_power\n",
    "        print(f\"taco has {taco.health} left\")\n",
    "        if taco.health <= 0:\n",
    "            print(\"taco loses\")\n",
    "            break\n",
    "fight()"
   ]
  },
  {
   "cell_type": "code",
   "execution_count": 2,
   "metadata": {},
   "outputs": [
    {
     "name": "stdout",
     "output_type": "stream",
     "text": [
      "Fight!\n",
      "\n",
      "          Turn 1 has started!\n",
      "          Your fighter has 10 health left\n",
      "          The computer' fighter has 10 health left\n",
      "          \n",
      "please input action\n",
      "1. Attack\n",
      "2. Change fighter\n",
      "0. Exit Game\n",
      "\n",
      "\n",
      "          Turn 2 has started!\n",
      "          Your fighter has 8 health left\n",
      "          The computer' fighter has 8 health left\n",
      "          \n",
      "please input action\n",
      "1. Attack\n",
      "2. Change fighter\n",
      "0. Exit Game\n",
      "\n",
      "\n",
      "          Turn 3 has started!\n",
      "          Your fighter has 6 health left\n",
      "          The computer' fighter has 6 health left\n",
      "          \n",
      "please input action\n",
      "1. Attack\n",
      "2. Change fighter\n",
      "0. Exit Game\n",
      "\n",
      "\n",
      "          Turn 4 has started!\n",
      "          Your fighter has 4 health left\n",
      "          The computer' fighter has 4 health left\n",
      "          \n",
      "please input action\n",
      "1. Attack\n",
      "2. Change fighter\n",
      "0. Exit Game\n",
      "\n",
      "\n",
      "          Turn 5 has started!\n",
      "          Your fighter has 2 health left\n",
      "          The computer' fighter has 2 health left\n",
      "          \n",
      "please input action\n",
      "1. Attack\n",
      "2. Change fighter\n",
      "0. Exit Game\n",
      "\n",
      "taco has been knocked out! bla wins!\n"
     ]
    }
   ],
   "source": [
    "\n",
    "\n",
    "\n",
    "\n",
    "def fight_turn_based(player_char, computer_char):\n",
    "    turn_count = 0\n",
    "    \n",
    "    print(\"Fight!\")\n",
    "    \n",
    "    \n",
    "    while True:\n",
    "        \n",
    "\n",
    "        turn_count += 1\n",
    "        \n",
    "        display_turn_report(turn_count, player_char, computer_char)\n",
    "        \n",
    "        \n",
    "        player_turn_input = request_player_action()\n",
    "            \n",
    "\n",
    "        \n",
    "        \n",
    "        if player_turn_input == \"1\":\n",
    "            execute_fight_turn(turn_count, player_char, computer_char)\n",
    "            \n",
    "            if check_fighter_knocked_out(player_char):\n",
    "        \n",
    "                print(f\"{player_char.name} has been knocked out! {computer_char.name} wins!\")\n",
    "                break\n",
    "        \n",
    "        \n",
    "        if check_fighter_knocked_out(computer_char):\n",
    "            \n",
    "            print(f\"{computer_char.name} has been knocked out! {player_char.name} wins!\")\n",
    "            break\n",
    "        \n",
    "        \n",
    "        if player_turn_input == \"2\":\n",
    "            # add player_character_select function\n",
    "            pass\n",
    "        \n",
    "        if player_turn_input == \"0\":\n",
    "            break\n",
    "        \n",
    "\n",
    "        \n",
    "def execute_fight_turn(turn_count, player_char, computer_char):\n",
    "    \n",
    "    player_char.health -= computer_char.attack_power\n",
    "\n",
    "    computer_char.health -= player_char.attack_power\n",
    "\n",
    "\n",
    "def check_fighter_knocked_out(character):\n",
    "    if character.health <= 0:\n",
    "        character.knocked_out = True\n",
    "        return character.knocked_out\n",
    "    \n",
    "    else:\n",
    "        return character.knocked_out\n",
    "\n",
    "\n",
    "def display_turn_report(turn_count, player_char, computer_char):\n",
    "    \n",
    "    print(f\"\"\"\n",
    "          Turn {turn_count} has started!\n",
    "          Your fighter has {player_char.health} health left\n",
    "          The computer' fighter has {computer_char.health} health left\n",
    "          \"\"\"\n",
    "          )\n",
    "\n",
    "\n",
    "   \n",
    "        \n",
    "def request_player_action():\n",
    "    \n",
    "    print(\"please input action\\n1. Attack\\n2. Change fighter\\n0. Exit Game\\n\")\n",
    "    player_input = input(\"type 1, 2 or 0 and press enter\")\n",
    "    return player_input\n",
    "  \n",
    "  \n",
    "    \n",
    "#     print\n",
    "player = Fighter(\"taco\", \"player\")\n",
    "computer = Fighter(\"bla\", \"computer\")\n",
    "fight_turn_based(player, computer)"
   ]
  },
  {
   "cell_type": "code",
   "execution_count": 38,
   "metadata": {},
   "outputs": [
    {
     "data": {
      "text/plain": [
       "''"
      ]
     },
     "execution_count": 38,
     "metadata": {},
     "output_type": "execute_result"
    }
   ],
   "source": []
  },
  {
   "cell_type": "code",
   "execution_count": null,
   "metadata": {},
   "outputs": [],
   "source": []
  },
  {
   "cell_type": "code",
   "execution_count": null,
   "metadata": {},
   "outputs": [],
   "source": [
    "from typing import Protocol\n",
    "\n",
    "class Test(Protocol[int]):\n",
    "    def meth(self) -> int:\n",
    "        "
   ]
  },
  {
   "cell_type": "code",
   "execution_count": null,
   "metadata": {},
   "outputs": [],
   "source": []
  },
  {
   "cell_type": "code",
   "execution_count": null,
   "metadata": {},
   "outputs": [],
   "source": []
  },
  {
   "cell_type": "code",
   "execution_count": null,
   "metadata": {},
   "outputs": [],
   "source": []
  },
  {
   "cell_type": "code",
   "execution_count": null,
   "metadata": {},
   "outputs": [],
   "source": []
  },
  {
   "cell_type": "code",
   "execution_count": null,
   "metadata": {},
   "outputs": [],
   "source": []
  },
  {
   "cell_type": "code",
   "execution_count": null,
   "metadata": {},
   "outputs": [],
   "source": []
  },
  {
   "cell_type": "code",
   "execution_count": null,
   "metadata": {},
   "outputs": [],
   "source": []
  }
 ],
 "metadata": {
  "kernelspec": {
   "display_name": "base",
   "language": "python",
   "name": "python3"
  },
  "language_info": {
   "codemirror_mode": {
    "name": "ipython",
    "version": 3
   },
   "file_extension": ".py",
   "mimetype": "text/x-python",
   "name": "python",
   "nbconvert_exporter": "python",
   "pygments_lexer": "ipython3",
   "version": "3.9.13 (main, Aug 25 2022, 23:51:50) [MSC v.1916 64 bit (AMD64)]"
  },
  "orig_nbformat": 4,
  "vscode": {
   "interpreter": {
    "hash": "ad2bdc8ecc057115af97d19610ffacc2b4e99fae6737bb82f5d7fb13d2f2c186"
   }
  }
 },
 "nbformat": 4,
 "nbformat_minor": 2
}
